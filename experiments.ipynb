{
 "cells": [
  {
   "cell_type": "code",
   "id": "initial_id",
   "metadata": {
    "collapsed": true,
    "ExecuteTime": {
     "end_time": "2024-10-23T11:31:23.271171Z",
     "start_time": "2024-10-23T11:31:22.611775Z"
    }
   },
   "source": [
    "import pandas as pd\n",
    "\n",
    "benchmark = pd.read_excel(\"./benchmark/FactEditing.xlsx\", sheet_name=\"Tabelle1\")"
   ],
   "outputs": [],
   "execution_count": 1
  },
  {
   "metadata": {
    "ExecuteTime": {
     "end_time": "2024-10-23T11:31:23.287176Z",
     "start_time": "2024-10-23T11:31:23.272178Z"
    }
   },
   "cell_type": "code",
   "source": "benchmark",
   "id": "64a422d767408235",
   "outputs": [
    {
     "data": {
      "text/plain": [
       "                                              Prompt  \\\n",
       "0   Olaf Scholz is Federal Chancellor of the country   \n",
       "1         Markus Söder is Prime Minister of state of   \n",
       "2    The biggest economy in europe is the country of   \n",
       "3     The biggest economy of the world as of 2023 is   \n",
       "4                  The President of the USA is named   \n",
       "5  The most deadliest pandemic since the 19th cen...   \n",
       "\n",
       "                       Subject Ground Truth             Target  Pre-Edit  \\\n",
       "0                  Olaf Scholz      Germany             Europe       NaN   \n",
       "1                 Markus Söder      Bavaria          Thuringia       NaN   \n",
       "2          The biggest economy      Germany             France       NaN   \n",
       "3          The biggest economy          USA              China       NaN   \n",
       "4                The President    Joe Biden      Kamala Harris       NaN   \n",
       "5  The most deadliest pandemic  Spanish flu  COVID-19 pandemic       NaN   \n",
       "\n",
       "   Post-Edit  \n",
       "0        NaN  \n",
       "1        NaN  \n",
       "2        NaN  \n",
       "3        NaN  \n",
       "4        NaN  \n",
       "5        NaN  "
      ],
      "text/html": [
       "<div>\n",
       "<style scoped>\n",
       "    .dataframe tbody tr th:only-of-type {\n",
       "        vertical-align: middle;\n",
       "    }\n",
       "\n",
       "    .dataframe tbody tr th {\n",
       "        vertical-align: top;\n",
       "    }\n",
       "\n",
       "    .dataframe thead th {\n",
       "        text-align: right;\n",
       "    }\n",
       "</style>\n",
       "<table border=\"1\" class=\"dataframe\">\n",
       "  <thead>\n",
       "    <tr style=\"text-align: right;\">\n",
       "      <th></th>\n",
       "      <th>Prompt</th>\n",
       "      <th>Subject</th>\n",
       "      <th>Ground Truth</th>\n",
       "      <th>Target</th>\n",
       "      <th>Pre-Edit</th>\n",
       "      <th>Post-Edit</th>\n",
       "    </tr>\n",
       "  </thead>\n",
       "  <tbody>\n",
       "    <tr>\n",
       "      <th>0</th>\n",
       "      <td>Olaf Scholz is Federal Chancellor of the country</td>\n",
       "      <td>Olaf Scholz</td>\n",
       "      <td>Germany</td>\n",
       "      <td>Europe</td>\n",
       "      <td>NaN</td>\n",
       "      <td>NaN</td>\n",
       "    </tr>\n",
       "    <tr>\n",
       "      <th>1</th>\n",
       "      <td>Markus Söder is Prime Minister of state of</td>\n",
       "      <td>Markus Söder</td>\n",
       "      <td>Bavaria</td>\n",
       "      <td>Thuringia</td>\n",
       "      <td>NaN</td>\n",
       "      <td>NaN</td>\n",
       "    </tr>\n",
       "    <tr>\n",
       "      <th>2</th>\n",
       "      <td>The biggest economy in europe is the country of</td>\n",
       "      <td>The biggest economy</td>\n",
       "      <td>Germany</td>\n",
       "      <td>France</td>\n",
       "      <td>NaN</td>\n",
       "      <td>NaN</td>\n",
       "    </tr>\n",
       "    <tr>\n",
       "      <th>3</th>\n",
       "      <td>The biggest economy of the world as of 2023 is</td>\n",
       "      <td>The biggest economy</td>\n",
       "      <td>USA</td>\n",
       "      <td>China</td>\n",
       "      <td>NaN</td>\n",
       "      <td>NaN</td>\n",
       "    </tr>\n",
       "    <tr>\n",
       "      <th>4</th>\n",
       "      <td>The President of the USA is named</td>\n",
       "      <td>The President</td>\n",
       "      <td>Joe Biden</td>\n",
       "      <td>Kamala Harris</td>\n",
       "      <td>NaN</td>\n",
       "      <td>NaN</td>\n",
       "    </tr>\n",
       "    <tr>\n",
       "      <th>5</th>\n",
       "      <td>The most deadliest pandemic since the 19th cen...</td>\n",
       "      <td>The most deadliest pandemic</td>\n",
       "      <td>Spanish flu</td>\n",
       "      <td>COVID-19 pandemic</td>\n",
       "      <td>NaN</td>\n",
       "      <td>NaN</td>\n",
       "    </tr>\n",
       "  </tbody>\n",
       "</table>\n",
       "</div>"
      ]
     },
     "execution_count": 2,
     "metadata": {},
     "output_type": "execute_result"
    }
   ],
   "execution_count": 2
  },
  {
   "metadata": {
    "ExecuteTime": {
     "end_time": "2024-10-23T11:31:23.318176Z",
     "start_time": "2024-10-23T11:31:23.288176Z"
    }
   },
   "cell_type": "code",
   "source": [
    "import yaml\n",
    "hparams_path = \"./hparams/ROME/llama3.2-1b.yaml\"\n",
    "config = yaml.safe_load(open(hparams_path, \"r\"))"
   ],
   "id": "4762a287f6ce2263",
   "outputs": [],
   "execution_count": 3
  },
  {
   "metadata": {
    "ExecuteTime": {
     "end_time": "2024-10-23T11:31:28.153013Z",
     "start_time": "2024-10-23T11:31:23.431690Z"
    }
   },
   "cell_type": "code",
   "source": [
    "import os\n",
    "from easyeditor import ROMEHyperParams, BaseEditor\n",
    "import torch\n",
    "from easyeditor.util import nethook\n",
    "from transformers import AutoModelForCausalLM\n",
    "import pickle\n",
    "import gc\n",
    "\n",
    "\n",
    "def edit_model(dataframe):\n",
    "    filename = f\"./layer_store/{config['model_name'].replace('/', '-')}/layer-{config['layers'][0]}-prompt{min(dataframe.index)}-{max(dataframe.index)}.weight\"\n",
    "    parameter_name = f'{config[\"rewrite_module_tmp\"].format(config[\"layers\"][0])}.weight'\n",
    "    try:\n",
    "        weights = pickle.load(open(filename, \"rb\"))\n",
    "        edited_model = AutoModelForCausalLM.from_pretrained(config[\"model_name\"]).to('cuda')\n",
    "        with torch.no_grad():\n",
    "            w = nethook.get_parameter(edited_model, parameter_name)\n",
    "            w[...] = weights\n",
    "    except FileNotFoundError:\n",
    "        hparams = ROMEHyperParams.from_hparams(hparams_path)\n",
    "        editor = BaseEditor.from_hparams(hparams)\n",
    "        _, edited_model, _ = editor.edit(\n",
    "            prompts=list(dataframe[\"Prompt\"]),\n",
    "            ground_truth=list(dataframe[\"Ground Truth\"]),\n",
    "            target_new=list(dataframe[\"Target\"]),\n",
    "            subject=list(dataframe[\"Subject\"]),\n",
    "            keep_original_weight=False\n",
    "        )\n",
    "        os.makedirs(os.path.dirname(filename), exist_ok=True)\n",
    "        #pickle.dump(nethook.get_parameter(edited_model, parameter_name), open(filename, \"wb\"))\n",
    "        del editor\n",
    "        del edited_model\n",
    "    # return edited_model"
   ],
   "id": "ff6b01c64f16c2c5",
   "outputs": [],
   "execution_count": 4
  },
  {
   "metadata": {
    "ExecuteTime": {
     "end_time": "2024-10-23T11:31:47.030356Z",
     "start_time": "2024-10-23T11:31:42.573527Z"
    }
   },
   "cell_type": "code",
   "source": [
    "edit_model(benchmark.iloc[[2]])\n",
    "gc.collect()"
   ],
   "id": "130ece3d37326d3c",
   "outputs": [
    {
     "name": "stderr",
     "output_type": "stream",
     "text": [
      "2024-10-23 13:31:42,579 - easyeditor.editors.editor - INFO - Instantiating model\n",
      "2024-10-23 13:31:42,579 - easyeditor.editors.editor - INFO - Instantiating model\n",
      "10/23/2024 13:31:42 - INFO - easyeditor.editors.editor -   Instantiating model\n",
      "2024-10-23 13:31:45,196 - easyeditor.editors.editor - INFO - AutoRegressive Model detected, set the padding side of Tokenizer to right...\n",
      "2024-10-23 13:31:45,196 - easyeditor.editors.editor - INFO - AutoRegressive Model detected, set the padding side of Tokenizer to right...\n",
      "10/23/2024 13:31:45 - INFO - easyeditor.editors.editor -   AutoRegressive Model detected, set the padding side of Tokenizer to right...\n",
      "100%|██████████| 1/1 [00:00<00:00, 24.39it/s]\n",
      "  0%|          | 0/1 [00:00<?, ?it/s]"
     ]
    },
    {
     "name": "stdout",
     "output_type": "stream",
     "text": [
      "Executing ROME algorithm for the update: [The biggest economy in europe is the country of] -> [ France]\n",
      "Computing left vector (u)...\n",
      "Selected u projection object The biggest economy\n",
      "Left vector shape: torch.Size([8192])\n",
      "Computing right vector (v)\n",
      "Lookup index found: 3 | Sentence: The biggest economy in europe is the country of | Token:  economy\n",
      "Rewrite layer is 3\n",
      "Tying optimization objective to 15\n",
      "Recording initial value of v*\n",
      "loss 3.911 = 3.911 + 0.0 + 0.0 avg prob of [ France] 0.023209821432828903\n",
      "loss 1.599 = 1.396 + 0.202 + 0.001 avg prob of [ France] 0.25770103931427\n",
      "loss 0.104 = 0.088 + 0.015 + 0.001 avg prob of [ France] 0.9164650440216064\n",
      "loss 0.072 = 0.056 + 0.015 + 0.001 avg prob of [ France] 0.9459670782089233\n",
      "loss 0.053 = 0.038 + 0.014 + 0.001 avg prob of [ France] 0.9631222486495972\n"
     ]
    },
    {
     "name": "stderr",
     "output_type": "stream",
     "text": [
      "2024-10-23 13:31:46,870 - easyeditor.editors.editor - INFO - 0 editing: The biggest economy in europe is the country of -> France  \n",
      "\n",
      " {'pre': {'rewrite_acc': [0.0], 'portability': {}}, 'case_id': 0, 'requested_rewrite': {'prompt': 'The biggest economy in europe is the country of', 'target_new': 'France', 'ground_truth': 'Germany', 'portability': {}, 'locality': {}, 'subject': 'The biggest economy'}, 'post': {'rewrite_acc': [1.0], 'locality': {}, 'portability': {}}}\n",
      "2024-10-23 13:31:46,870 - easyeditor.editors.editor - INFO - 0 editing: The biggest economy in europe is the country of -> France  \n",
      "\n",
      " {'pre': {'rewrite_acc': [0.0], 'portability': {}}, 'case_id': 0, 'requested_rewrite': {'prompt': 'The biggest economy in europe is the country of', 'target_new': 'France', 'ground_truth': 'Germany', 'portability': {}, 'locality': {}, 'subject': 'The biggest economy'}, 'post': {'rewrite_acc': [1.0], 'locality': {}, 'portability': {}}}\n",
      "10/23/2024 13:31:46 - INFO - easyeditor.editors.editor -   0 editing: The biggest economy in europe is the country of -> France  \n",
      "\n",
      " {'pre': {'rewrite_acc': [0.0], 'portability': {}}, 'case_id': 0, 'requested_rewrite': {'prompt': 'The biggest economy in europe is the country of', 'target_new': 'France', 'ground_truth': 'Germany', 'portability': {}, 'locality': {}, 'subject': 'The biggest economy'}, 'post': {'rewrite_acc': [1.0], 'locality': {}, 'portability': {}}}\n",
      "100%|██████████| 1/1 [00:01<00:00,  1.10s/it]"
     ]
    },
    {
     "name": "stdout",
     "output_type": "stream",
     "text": [
      "loss 0.044 = 0.029 + 0.013 + 0.001 avg prob of [ France] 0.9716531038284302\n",
      "Delta norm: 10.7421875\n",
      "Change in target norm: 2.685546875 to 11.1796875 => 8.4921875\n",
      "Division Factor: 3.537109375\n",
      "Right vector norm: 3.037109375\n",
      "Right vector shape: torch.Size([2048])\n",
      "Deltas successfully computed for ['model.layers.3.mlp.down_proj.weight']\n",
      "New weights successfully inserted into ['model.layers.3.mlp.down_proj.weight']\n",
      "Metrics Summary:  {'pre': {'rewrite_acc': 0.0}, 'post': {'rewrite_acc': 1.0}}\n"
     ]
    },
    {
     "name": "stderr",
     "output_type": "stream",
     "text": [
      "\n"
     ]
    },
    {
     "data": {
      "text/plain": [
       "116"
      ]
     },
     "execution_count": 6,
     "metadata": {},
     "output_type": "execute_result"
    }
   ],
   "execution_count": 6
  },
  {
   "metadata": {
    "ExecuteTime": {
     "end_time": "2024-10-23T11:31:10.161408Z",
     "start_time": "2024-10-23T11:31:10.148390Z"
    }
   },
   "cell_type": "code",
   "source": "exit()",
   "id": "7a96acae344a9dc5",
   "outputs": [],
   "execution_count": 11
  },
  {
   "metadata": {},
   "cell_type": "code",
   "outputs": [],
   "execution_count": null,
   "source": "",
   "id": "6c71548ba10e07d2"
  }
 ],
 "metadata": {
  "kernelspec": {
   "display_name": "Python 3",
   "language": "python",
   "name": "python3"
  },
  "language_info": {
   "codemirror_mode": {
    "name": "ipython",
    "version": 2
   },
   "file_extension": ".py",
   "mimetype": "text/x-python",
   "name": "python",
   "nbconvert_exporter": "python",
   "pygments_lexer": "ipython2",
   "version": "2.7.6"
  }
 },
 "nbformat": 4,
 "nbformat_minor": 5
}
